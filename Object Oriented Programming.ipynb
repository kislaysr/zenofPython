{
 "cells": [
  {
   "cell_type": "markdown",
   "metadata": {},
   "source": [
    "# Object Oriented Programming\n",
    "\n",
    "By Saurabh Mathur"
   ]
  },
  {
   "cell_type": "markdown",
   "metadata": {},
   "source": [
    "Object Oriented Programming is a way of developing programs. It is supposed to be the most practical approach for dealing with today's programming situations."
   ]
  },
  {
   "cell_type": "markdown",
   "metadata": {},
   "source": [
    "## A Bank with just one account"
   ]
  },
  {
   "cell_type": "code",
   "execution_count": 1,
   "metadata": {
    "collapsed": true
   },
   "outputs": [],
   "source": [
    "balance = 0 # State variable\n",
    "\n",
    "def deposit(amount):\n",
    "    global balance\n",
    "    balance += amount\n",
    "    return balance\n",
    "\n",
    "def withdraw(amount):\n",
    "    global balance\n",
    "    balance -= amount\n",
    "    return balance"
   ]
  },
  {
   "cell_type": "markdown",
   "metadata": {},
   "source": [
    "print (deposit(100))\n",
    "print (withdraw(50))"
   ]
  },
  {
   "cell_type": "markdown",
   "metadata": {},
   "source": [
    "Here, the *state* is global."
   ]
  },
  {
   "cell_type": "markdown",
   "metadata": {},
   "source": [
    "## Multiple Accounts ?"
   ]
  },
  {
   "cell_type": "code",
   "execution_count": 2,
   "metadata": {
    "collapsed": true
   },
   "outputs": [],
   "source": [
    "def make_account():\n",
    "    return {'balance': 0}\n",
    "\n",
    "def deposit(account, amount):\n",
    "    account['balance'] += amount\n",
    "    return account['balance']\n",
    "\n",
    "def withdraw(account, amount):\n",
    "    account['balance'] -= amount\n",
    "    return account['balance']"
   ]
  },
  {
   "cell_type": "code",
   "execution_count": 3,
   "metadata": {
    "collapsed": false
   },
   "outputs": [
    {
     "name": "stdout",
     "output_type": "stream",
     "text": [
      "Balance left in account a (deposit 100, withdraw 50): 50\n",
      "Balance left in account b (deposit 500, withdraw 50): 450\n"
     ]
    }
   ],
   "source": [
    "a = make_account()\n",
    "deposit(a, 100)\n",
    "print ('Balance left in account a (deposit 100, withdraw 50): {}'.format(withdraw(a, 50)))\n",
    "\n",
    "b = make_account()\n",
    "deposit(b, 500)\n",
    "print ('Balance left in account b (deposit 500, withdraw 50): {}'.format(withdraw(b, 50)))"
   ]
  },
  {
   "cell_type": "markdown",
   "metadata": {},
   "source": [
    "Here, the state is stored in a `dict` and is passed around with every function call.\n",
    "\n",
    "Since we are using a `dict`, there are no constraints on which keys an account can have. So it may or may not have `'balance'` as a key."
   ]
  },
  {
   "cell_type": "markdown",
   "metadata": {},
   "source": [
    "## Classes"
   ]
  },
  {
   "cell_type": "markdown",
   "metadata": {},
   "source": [
    "A *class* is simply, variables and function definitions combined as a single unit."
   ]
  },
  {
   "cell_type": "code",
   "execution_count": 4,
   "metadata": {
    "collapsed": true
   },
   "outputs": [],
   "source": [
    "class BankAccount:\n",
    "    def __init__(self):\n",
    "        self.balance = 0\n",
    "    \n",
    "    def withdraw(self, amount):\n",
    "        self.balance -= amount\n",
    "        return self.balance\n",
    "\n",
    "    def deposit(self, amount):\n",
    "        self.balance += amount\n",
    "        return self.balance\n"
   ]
  },
  {
   "cell_type": "code",
   "execution_count": 5,
   "metadata": {
    "collapsed": false
   },
   "outputs": [
    {
     "name": "stdout",
     "output_type": "stream",
     "text": [
      "Current Balance of BankAccount a: 200\n",
      "Current Balance of BankAccount a: 150\n"
     ]
    }
   ],
   "source": [
    "a = BankAccount() # a is an *object*\n",
    "a.deposit(200)\n",
    "print ('Current Balance of BankAccount a: {}'.format(a.balance))\n",
    "\n",
    "a.withdraw(50)\n",
    "print ('Current Balance of BankAccount a: {}'.format(a.balance))"
   ]
  },
  {
   "cell_type": "markdown",
   "metadata": {},
   "source": [
    "### Object\n",
    "\n",
    "An object is an instace of a class. An object is associated with some actual memory while a class is an *abstract* concept.\n",
    "\n",
    "Here, `a` is an *object* of the class `BankAccount`."
   ]
  },
  {
   "cell_type": "markdown",
   "metadata": {},
   "source": [
    "### Method\n",
    "\n",
    "A *method* is a function associated with an object.\n",
    "\n",
    "The first argument to a method is always `self`, a reference to the current object.\n",
    "Here, `withdraw` and `deposit` are methods.\n",
    "\n",
    "`__init__` is a special type of method, called the *constructor*. It is used to initialize the members of a class.\n",
    "\n",
    "All methods starting with `__` and ending with `__` (including `__init__`) are called **magic methods**"
   ]
  },
  {
   "cell_type": "markdown",
   "metadata": {},
   "source": [
    "## Further Reading \n",
    "\n",
    "- Inheritance\n",
    "- Overloading\n",
    "- Magic Methods"
   ]
  }
 ],
 "metadata": {
  "kernelspec": {
   "display_name": "Python 3",
   "language": "python",
   "name": "python3"
  },
  "language_info": {
   "codemirror_mode": {
    "name": "ipython",
    "version": 3
   },
   "file_extension": ".py",
   "mimetype": "text/x-python",
   "name": "python",
   "nbconvert_exporter": "python",
   "pygments_lexer": "ipython3",
   "version": "3.5.2"
  }
 },
 "nbformat": 4,
 "nbformat_minor": 0
}
