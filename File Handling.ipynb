{
 "cells": [
  {
   "cell_type": "markdown",
   "metadata": {},
   "source": [
    "# File Handling\n",
    "\n",
    "By Saurabh Mathur"
   ]
  },
  {
   "cell_type": "markdown",
   "metadata": {},
   "source": [
    "## What is a file ?\n",
    "\n",
    "A computer file is a resource for storing information. The information stored is *persistent*, that is, it is available even after the program that created it finished executing.\n",
    "\n",
    "\n"
   ]
  },
  {
   "cell_type": "markdown",
   "metadata": {},
   "source": [
    "## File handling in python"
   ]
  },
  {
   "cell_type": "markdown",
   "metadata": {},
   "source": [
    "### Writing to a file"
   ]
  },
  {
   "cell_type": "code",
   "execution_count": 3,
   "metadata": {
    "collapsed": false
   },
   "outputs": [
    {
     "name": "stdout",
     "output_type": "stream",
     "text": [
      "('file handle : ', <open file 'small.txt', mode 'w' at 0x7fdb302d5660>)\n"
     ]
    }
   ],
   "source": [
    "f = open('small.txt', 'w')\n",
    "print ('file handle : ', f)\n",
    "\n",
    "f.write('hello') # file contains 'hello'\n",
    "f.write('\\r\\n')    # file contains 'hello\\n'\n",
    "f.write('world') # file contains 'hello world'\n",
    "\n",
    "f.close()"
   ]
  },
  {
   "cell_type": "markdown",
   "metadata": {},
   "source": [
    "### What happened ?"
   ]
  },
  {
   "cell_type": "markdown",
   "metadata": {},
   "source": [
    "General flow of execution of `open`, behind the scenes is :\n",
    "![](images/files.png)"
   ]
  },
  {
   "cell_type": "markdown",
   "metadata": {},
   "source": [
    "### Reading text from a file"
   ]
  },
  {
   "cell_type": "code",
   "execution_count": 4,
   "metadata": {
    "collapsed": false
   },
   "outputs": [
    {
     "name": "stdout",
     "output_type": "stream",
     "text": [
      "('file handle : ', <open file 'small.txt', mode 'r' at 0x7fdb302d5540>)\n",
      "file contents: \"hello\r\n",
      "world\"\n"
     ]
    }
   ],
   "source": [
    "f = open('small.txt')  # mode  is 'r' by default\n",
    "print ('file handle : ', f)\n",
    "\n",
    "alltext = f.read() # entire file is read as a string\n",
    "print ('file contents: \"{}\"'.format(alltext))\n",
    "\n",
    "f.close()"
   ]
  },
  {
   "cell_type": "markdown",
   "metadata": {},
   "source": [
    "### Reading text *line-by-line* from a file"
   ]
  },
  {
   "cell_type": "code",
   "execution_count": 5,
   "metadata": {
    "collapsed": false
   },
   "outputs": [
    {
     "name": "stdout",
     "output_type": "stream",
     "text": [
      "('file handle : ', <open file 'small.txt', mode 'r' at 0x7fdb302d5660>)\n",
      "line read: \"hello\r\n",
      "\"\n",
      "line read: \"world\"\n"
     ]
    }
   ],
   "source": [
    "f = open('small.txt')  # mode  is 'r' by default\n",
    "print ('file handle : ', f)\n",
    "\n",
    "for line in f:\n",
    "    print ('line read: \"{}\"'.format(line))\n",
    "\n",
    "f.close()"
   ]
  },
  {
   "cell_type": "markdown",
   "metadata": {},
   "source": [
    "We can get rid of the trailing newline by caliing `.rstrip()` on every line."
   ]
  },
  {
   "cell_type": "code",
   "execution_count": 7,
   "metadata": {
    "collapsed": false
   },
   "outputs": [
    {
     "name": "stdout",
     "output_type": "stream",
     "text": [
      "('file handle : ', <open file 'small.txt', mode 'r' at 0x7fdb302d5660>)\n",
      "line read: \"hello\"\n",
      "line read: \"world\"\n"
     ]
    }
   ],
   "source": [
    "f = open('small.txt')  # mode  is 'r' by default\n",
    "print ('file handle : ', f)\n",
    "\n",
    "for line in f:\n",
    "    print ('line read: \"{}\"'.format(line.rstrip()))\n",
    "\n",
    "f.close()"
   ]
  },
  {
   "cell_type": "markdown",
   "metadata": {},
   "source": [
    "## Remember : always close files"
   ]
  },
  {
   "cell_type": "markdown",
   "metadata": {},
   "source": [
    "Closing files when one is done with them is extremely important. This is because, if you don't, it will remain open even after your program has finished execution. That is, the OS will think you are still working with that file.\n",
    "\n",
    "**Note :** The file is only be closed when the python interpreter terminates.\n",
    "\n",
    "Also, some operating system platforms won't let the same file be simultaneously open for readonly and for write.\n",
    "\n",
    "\n",
    "However, it is tedious to track each and every file and close it manually. There are cases when you might encounter an exception (IOError) and if not handled properly, the file will remain open.\n",
    "\n",
    "A better alternative is to use a *context manager*."
   ]
  },
  {
   "cell_type": "markdown",
   "metadata": {},
   "source": [
    "## The \"with\" Statement"
   ]
  },
  {
   "cell_type": "markdown",
   "metadata": {},
   "source": [
    "```\n",
    "with EXPR as VAR:\n",
    "            BLOCK1\n",
    "```"
   ]
  },
  {
   "cell_type": "markdown",
   "metadata": {},
   "source": [
    "Concretly, what this means is, that the result of `EXPR` can be refered by `VAR` in `BLOCK1`. \n",
    "\n",
    "Once `BLOCK1` is over, `VAR` is closed.\n",
    "\n",
    "In our case, it looks like - "
   ]
  },
  {
   "cell_type": "code",
   "execution_count": 6,
   "metadata": {
    "collapsed": false
   },
   "outputs": [],
   "source": [
    "with open('small.txt') as f:\n",
    "    # do something with f\n",
    "    pass"
   ]
  },
  {
   "cell_type": "markdown",
   "metadata": {},
   "source": [
    "Reading a file line-by-line can be written as -"
   ]
  },
  {
   "cell_type": "code",
   "execution_count": 8,
   "metadata": {
    "collapsed": false
   },
   "outputs": [
    {
     "name": "stdout",
     "output_type": "stream",
     "text": [
      "line read: \"hello\"\n",
      "line read: \"world\"\n"
     ]
    }
   ],
   "source": [
    "with open('small.txt') as f:\n",
    "    # f is open here\n",
    "    for line in f:\n",
    "        print ('line read: \"{}\"'.format(line.rstrip()))"
   ]
  },
  {
   "cell_type": "markdown",
   "metadata": {},
   "source": [
    "## Exercise"
   ]
  },
  {
   "cell_type": "markdown",
   "metadata": {},
   "source": [
    "- Open the file named 'big.txt' in the 'data' folder.\n",
    "- Read the first line.\n",
    "- Split the text read above by space ' ' and, print each element on a new line."
   ]
  }
 ],
 "metadata": {
  "kernelspec": {
   "display_name": "Python 2",
   "language": "python",
   "name": "python2"
  },
  "language_info": {
   "codemirror_mode": {
    "name": "ipython",
    "version": 2
   },
   "file_extension": ".py",
   "mimetype": "text/x-python",
   "name": "python",
   "nbconvert_exporter": "python",
   "pygments_lexer": "ipython2",
   "version": "2.7.12"
  }
 },
 "nbformat": 4,
 "nbformat_minor": 0
}
