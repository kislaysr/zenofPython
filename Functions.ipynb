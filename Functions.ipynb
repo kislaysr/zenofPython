{
 "cells": [
  {
   "cell_type": "markdown",
   "metadata": {},
   "source": [
    "# Functions"
   ]
  },
  {
   "cell_type": "markdown",
   "metadata": {},
   "source": [
    "#### Definiton : A function is a named block of reusable code. It provides modularity to the program"
   ]
  },
  {
   "cell_type": "code",
   "execution_count": 1,
   "metadata": {
    "collapsed": false
   },
   "outputs": [
    {
     "name": "stdout",
     "output_type": "stream",
     "text": [
      "11\n"
     ]
    }
   ],
   "source": [
    "print(len(\"Hello World\")) #here, len() and print are functions"
   ]
  },
  {
   "cell_type": "markdown",
   "metadata": {},
   "source": [
    "#### We can also create our own custom functions using the def keyword\n",
    "\n",
    "```python\n",
    "def function_name([arg1][,arg2*]):\n",
    "    statements\n",
    "    [return [variable]]\n",
    "```\n",
    "</pre>"
   ]
  },
  {
   "cell_type": "code",
   "execution_count": 2,
   "metadata": {
    "collapsed": false,
    "scrolled": true
   },
   "outputs": [
    {
     "name": "stdout",
     "output_type": "stream",
     "text": [
      "7\n",
      "14\n",
      "21\n",
      "28\n",
      "35\n",
      "\n",
      "some stuff\n",
      "\n",
      "7\n",
      "14\n",
      "21\n",
      "28\n",
      "35\n"
     ]
    }
   ],
   "source": [
    "def pattern():\n",
    "    for i in range(1,6):\n",
    "        print(7 * i,sep = \" \")\n",
    "\n",
    "        \n",
    "pattern()\n",
    "print(\"\\nsome stuff\\n\")\n",
    "pattern()\n"
   ]
  },
  {
   "cell_type": "markdown",
   "metadata": {},
   "source": [
    "#### Functions can also have parameters. For example, the len() function takes a string as its parameter and returns its length"
   ]
  },
  {
   "cell_type": "markdown",
   "metadata": {},
   "source": [
    "In the following example interest is calculated using the formula interest = principal \\* rate \\* time"
   ]
  },
  {
   "cell_type": "code",
   "execution_count": 25,
   "metadata": {
    "collapsed": false
   },
   "outputs": [
    {
     "name": "stdout",
     "output_type": "stream",
     "text": [
      "Interest is : 125.0\n",
      "Interest is : 250.0\n"
     ]
    }
   ],
   "source": [
    "def interest(principal,rate,time=1):\n",
    "    print(\"Interest is : {}\".format(principal*rate*time))\n",
    "    \n",
    "interest(500,0.25)\n",
    "interest(500,0.25,2)"
   ]
  },
  {
   "cell_type": "markdown",
   "metadata": {},
   "source": [
    "we could also return the value instead of printing it. This helps in further calculations that may need to be done"
   ]
  },
  {
   "cell_type": "code",
   "execution_count": 4,
   "metadata": {
    "collapsed": false
   },
   "outputs": [
    {
     "name": "stdout",
     "output_type": "stream",
     "text": [
      "Interest is : 300.0\n",
      "Required value is : 600.0\n"
     ]
    }
   ],
   "source": [
    "def my_interest(p,r,t): # p, r, t are positional parameters\n",
    "    interest(p,r,t)\n",
    "    return p*r*t\n",
    "var1 = my_interest(500, 0.2, 3)\n",
    "print(\"Required value is : {}\".format(var1*2))"
   ]
  },
  {
   "cell_type": "markdown",
   "metadata": {},
   "source": [
    "### Parameters\n",
    "Parameters (also called arguments) are the values provided during a function call that the function manipulates or displays\n",
    "\n",
    "in the interest function principal,rate and time are the parameters, time is a **default parameter** because it is optional and will take the default value of 1 if not provided with anything\n",
    "\n",
    "\n",
    "\n"
   ]
  },
  {
   "cell_type": "code",
   "execution_count": 5,
   "metadata": {
    "collapsed": false
   },
   "outputs": [
    {
     "name": "stdout",
     "output_type": "stream",
     "text": [
      "Interest is : 150.0\n"
     ]
    }
   ],
   "source": [
    "interest(rate=0.15,principal=500,time=2) #keyword parameters"
   ]
  },
  {
   "cell_type": "markdown",
   "metadata": {},
   "source": [
    "### collect and unpack parameters"
   ]
  },
  {
   "cell_type": "code",
   "execution_count": 6,
   "metadata": {
    "collapsed": false
   },
   "outputs": [
    {
     "name": "stdout",
     "output_type": "stream",
     "text": [
      "<class 'tuple'> : (5, 2, 3)\n",
      "3\n",
      " \n",
      "<class 'tuple'> : (1, 8)\n",
      "2\n",
      " \n"
     ]
    }
   ],
   "source": [
    "def collector(*args):\n",
    "    print(\"{} : {}\".format(type(args),args))\n",
    "    print(len(args))\n",
    "    print(\" \")\n",
    "\n",
    "collector(5,2,3)\n",
    "collector(1,8)"
   ]
  },
  {
   "cell_type": "code",
   "execution_count": 7,
   "metadata": {
    "collapsed": false
   },
   "outputs": [
    {
     "name": "stdout",
     "output_type": "stream",
     "text": [
      "13\n",
      " \n",
      "23\n"
     ]
    }
   ],
   "source": [
    "def unpacker(a,b,c):\n",
    "    print(a+2*b+c)\n",
    "\n",
    "var2 = [2,3,5]\n",
    "var3 = (1,7,8)\n",
    "\n",
    "unpacker(*var2)\n",
    "print(\" \")\n",
    "unpacker(*var3)"
   ]
  },
  {
   "cell_type": "markdown",
   "metadata": {},
   "source": [
    "## Recursion"
   ]
  },
  {
   "cell_type": "code",
   "execution_count": 9,
   "metadata": {
    "collapsed": false
   },
   "outputs": [
    {
     "data": {
      "text/plain": [
       "144"
      ]
     },
     "execution_count": 9,
     "metadata": {},
     "output_type": "execute_result"
    }
   ],
   "source": [
    "def fib(n):\n",
    "   if n == 1:\n",
    "      return 1\n",
    "   elif n == 0:   \n",
    "      return 0            \n",
    "   else:                      \n",
    "      return fib(n-1) + fib(n-2)\n",
    "    \n",
    "fib(12) #print the 12th fibonacci number"
   ]
  },
  {
   "cell_type": "code",
   "execution_count": 24,
   "metadata": {
    "collapsed": false
   },
   "outputs": [
    {
     "data": {
      "text/plain": [
       "144"
      ]
     },
     "execution_count": 24,
     "metadata": {},
     "output_type": "execute_result"
    }
   ],
   "source": [
    "def fibo(n):\n",
    "    x = n if (n<2) else (fibo(n-1) + fibo(n-2))\n",
    "    return x\n",
    "\n",
    "fibo(12)"
   ]
  }
 ],
 "metadata": {
  "kernelspec": {
   "display_name": "Python 3",
   "language": "python",
   "name": "python3"
  },
  "language_info": {
   "codemirror_mode": {
    "name": "ipython",
    "version": 3
   },
   "file_extension": ".py",
   "mimetype": "text/x-python",
   "name": "python",
   "nbconvert_exporter": "python",
   "pygments_lexer": "ipython3",
   "version": "3.5.2"
  }
 },
 "nbformat": 4,
 "nbformat_minor": 0
}
