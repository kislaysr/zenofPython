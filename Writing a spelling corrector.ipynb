{
 "cells": [
  {
   "cell_type": "markdown",
   "metadata": {},
   "source": [
    "# Writing a spelling corrector\n",
    "\n",
    "By Saurabh Mathur"
   ]
  },
  {
   "cell_type": "markdown",
   "metadata": {},
   "source": [
    "Spelling correctors are found nearly everywhere - Search engines, smartphone keyboards, word processors and so on. \n",
    "\n",
    "_But how do they work ? _"
   ]
  },
  {
   "cell_type": "markdown",
   "metadata": {},
   "source": [
    "![](images/did-you-mean.png)"
   ]
  },
  {
   "cell_type": "markdown",
   "metadata": {},
   "source": [
    "**Peter Norvig**, the Director of Research at Google, wrote a blog post explaining how.\n",
    "\n",
    "This is an abridged version of the same. The article can be found here - [http://norvig.com/spell-correct.html](http://norvig.com/spell-correct.html)\n",
    "\n",
    "![](images/peter-norvig.jpg)"
   ]
  },
  {
   "cell_type": "markdown",
   "metadata": {},
   "source": [
    "## A bit of math"
   ]
  },
  {
   "cell_type": "markdown",
   "metadata": {},
   "source": [
    "Formally, our problem can be stated as follows, \n",
    "\n",
    ">_Given a word, choose the most likely spelling correction for that word _\n",
    "\n",
    "\n",
    "To accomplish that we need to find the correction (`c`) with the maximum value of the probability given the word (`w`). That is, \n",
    "\n",
    "```\n",
    "max P(c|w)\n",
    "```\n",
    "\n",
    "Applying Bayes' Theorem, we can expand `P(c|w)` as\n",
    "\n",
    "```\n",
    "P(c|w) = P(w|c) P(c) / P (w)\n",
    "```"
   ]
  },
  {
   "cell_type": "markdown",
   "metadata": {},
   "source": [
    "## Counting words"
   ]
  },
  {
   "cell_type": "markdown",
   "metadata": {},
   "source": [
    "First of all, we need to find the probability of the occurance of a correct word. That is,\n",
    "```\n",
    "P(c)\n",
    "```"
   ]
  },
  {
   "cell_type": "code",
   "execution_count": 68,
   "metadata": {
    "collapsed": false
   },
   "outputs": [
    {
     "name": "stdout",
     "output_type": "stream",
     "text": [
      "29157 words read.\n"
     ]
    }
   ],
   "source": [
    "import os, re, pprint\n",
    "\n",
    "word_counts = {} # ex. { 'kingdom': 5, 'province': 10, ..  }\n",
    "filepath = os.path.join('data', 'big.txt') # 'data/big.txt' (linux/mac) or 'data\\big.txt' (windows)\n",
    "\n",
    "with open(filepath) as f:\n",
    "    alltext = f.read() # read entire file as string\n",
    "    alltext_lower = alltext.lower() # file contents as lowercase\n",
    "    \n",
    "    # '\"seven!\" i answered.' => ['seven', 'i', 'answered']\n",
    "    words = re.findall('[a-z]+', alltext_lower) \n",
    "    \n",
    "    for word in words:\n",
    "        if word in word_counts:\n",
    "            word_counts[word] += 1\n",
    "        else:\n",
    "            word_counts[word] = 1\n",
    "            \n",
    "print ('{} words read.'.format(len(word_counts)))"
   ]
  },
  {
   "cell_type": "markdown",
   "metadata": {},
   "source": [
    "## Finding the correct word"
   ]
  },
  {
   "cell_type": "markdown",
   "metadata": {},
   "source": [
    "Next, we need to find how to correct a particular word. To accomplish this, we will find the all \"words\" that are candidate corrections.\n",
    "\n",
    "For simplicity, we will to find all the words that can be formed from our misspelt word by changing at most one letter.\n",
    "\n",
    "There are four cases for this -\n",
    "- *delete*: Delete a letter\n",
    "```\n",
    "'pick' => ['ick', 'pck', 'pik', 'pic']\n",
    "```\n",
    "- *transpose*: Exchange any two letters\n",
    "```\n",
    "'pick' => ['ipck', 'pcik', 'pikc']\n",
    "```\n",
    "- *replace*: replace a letter with any other letter\n",
    "```\n",
    "'pick' => ['aick', 'bick', 'cick', ..., 'piyk', 'pizk']\n",
    "```\n",
    "- *insert*: Insert a letter at any position\n",
    "```\n",
    "'pick' => ['apick', 'bpick', 'cpick', ..., 'picky', 'pickz']\n",
    "```"
   ]
  },
  {
   "cell_type": "code",
   "execution_count": 69,
   "metadata": {
    "collapsed": false
   },
   "outputs": [
    {
     "name": "stdout",
     "output_type": "stream",
     "text": [
      "splits [('', 'tht'), ('t', 'ht'), ('th', 't'), ('tht', '')]\n"
     ]
    }
   ],
   "source": [
    "word = 'tht'\n",
    "\n",
    "splits = [(word[:i], word[i:]) for i in range(len(word) + 1)]\n",
    "\n",
    "print ('splits', splits)"
   ]
  },
  {
   "cell_type": "code",
   "execution_count": 71,
   "metadata": {
    "collapsed": false
   },
   "outputs": [
    {
     "name": "stdout",
     "output_type": "stream",
     "text": [
      "deletes ['ht', 'tt', 'th']\n"
     ]
    }
   ],
   "source": [
    "deletes = [a + b[1:] for a,b in splits if b]\n",
    "\n",
    "print ('deletes', deletes)"
   ]
  },
  {
   "cell_type": "code",
   "execution_count": 70,
   "metadata": {
    "collapsed": false
   },
   "outputs": [
    {
     "name": "stdout",
     "output_type": "stream",
     "text": [
      "transposes ['htt', 'tth']\n"
     ]
    }
   ],
   "source": [
    "transposes = [a + b[1] + b[0] + b[2:] for a,b in splits if len(b) > 1 ]\n",
    "\n",
    "print ('transposes', transposes)"
   ]
  },
  {
   "cell_type": "code",
   "execution_count": 72,
   "metadata": {
    "collapsed": false
   },
   "outputs": [
    {
     "name": "stdout",
     "output_type": "stream",
     "text": [
      "replaces ['aht', 'bht', 'cht', 'dht', 'eht', 'fht', 'ght', 'hht', 'iht', 'jht', 'kht', 'lht', 'mht', 'nht', 'oht', 'pht', 'qht', 'rht', 'sht', 'tht', 'uht', 'vht', 'wht', 'xht', 'yht', 'zht', 'tat', 'tbt', 'tct', 'tdt', 'tet', 'tft', 'tgt', 'tht', 'tit', 'tjt', 'tkt', 'tlt', 'tmt', 'tnt', 'tot', 'tpt', 'tqt', 'trt', 'tst', 'ttt', 'tut', 'tvt', 'twt', 'txt', 'tyt', 'tzt', 'tha', 'thb', 'thc', 'thd', 'the', 'thf', 'thg', 'thh', 'thi', 'thj', 'thk', 'thl', 'thm', 'thn', 'tho', 'thp', 'thq', 'thr', 'ths', 'tht', 'thu', 'thv', 'thw', 'thx', 'thy', 'thz']\n"
     ]
    }
   ],
   "source": [
    "import string\n",
    "\n",
    "\n",
    "replaces = [a + c  + b[1:] for a,b in splits for c in string.ascii_lowercase if b ]\n",
    "print ('replaces', replaces)"
   ]
  },
  {
   "cell_type": "code",
   "execution_count": 53,
   "metadata": {
    "collapsed": false
   },
   "outputs": [
    {
     "name": "stdout",
     "output_type": "stream",
     "text": [
      "['atht', 'btht', 'ctht', 'dtht', 'etht', 'ftht', 'gtht', 'htht', 'itht', 'jtht', 'ktht', 'ltht', 'mtht', 'ntht', 'otht', 'ptht', 'qtht', 'rtht', 'stht', 'ttht', 'utht', 'vtht', 'wtht', 'xtht', 'ytht', 'ztht', 'taht', 'tbht', 'tcht', 'tdht', 'teht', 'tfht', 'tght', 'thht', 'tiht', 'tjht', 'tkht', 'tlht', 'tmht', 'tnht', 'toht', 'tpht', 'tqht', 'trht', 'tsht', 'ttht', 'tuht', 'tvht', 'twht', 'txht', 'tyht', 'tzht', 'that', 'thbt', 'thct', 'thdt', 'thet', 'thft', 'thgt', 'thht', 'thit', 'thjt', 'thkt', 'thlt', 'thmt', 'thnt', 'thot', 'thpt', 'thqt', 'thrt', 'thst', 'thtt', 'thut', 'thvt', 'thwt', 'thxt', 'thyt', 'thzt', 'thta', 'thtb', 'thtc', 'thtd', 'thte', 'thtf', 'thtg', 'thth', 'thti', 'thtj', 'thtk', 'thtl', 'thtm', 'thtn', 'thto', 'thtp', 'thtq', 'thtr', 'thts', 'thtt', 'thtu', 'thtv', 'thtw', 'thtx', 'thty', 'thtz']\n"
     ]
    }
   ],
   "source": [
    "import string\n",
    "\n",
    "\n",
    "inserts = [a + c + b for a,b in splits for c in string.ascii_lowercase]\n",
    "print (inserts)"
   ]
  },
  {
   "cell_type": "markdown",
   "metadata": {},
   "source": [
    "## Putting it togther"
   ]
  },
  {
   "cell_type": "markdown",
   "metadata": {},
   "source": [
    "We can combine the four types of corrected words to get a list of all possible corrections."
   ]
  },
  {
   "cell_type": "code",
   "execution_count": 73,
   "metadata": {
    "collapsed": false
   },
   "outputs": [
    {
     "name": "stdout",
     "output_type": "stream",
     "text": [
      "['sell', 'sill', 'spell', 'spill', 'soll']\n"
     ]
    }
   ],
   "source": [
    "def edits1(word):\n",
    "    splits = [(word[:i], word[i:]) for i in range(len(word) + 1)]\n",
    "    \n",
    "    deletes = [a + b[1:] for a,b in splits if b]\n",
    "    transposes = [a + b[1] + b[0] + b[2:] for a,b in splits if len(b) > 1 ]\n",
    "    replaces = [a + c  + b[1:] for a,b in splits for c in string.ascii_lowercase if b ]\n",
    "    inserts = [a + c + b for a,b in splits for c in string.ascii_lowercase]\n",
    "    \n",
    "    return set(deletes + transposes + replaces + inserts)\n",
    "\n",
    "print ([word for word in edits1('spll') if word in word_counts] ) "
   ]
  },
  {
   "cell_type": "markdown",
   "metadata": {},
   "source": [
    "Using the `word_counts` calculated earlier, we can suggest the most frequently occuring correct word as what the user might have wanted to type."
   ]
  },
  {
   "cell_type": "code",
   "execution_count": 65,
   "metadata": {
    "collapsed": false
   },
   "outputs": [
    {
     "data": {
      "text/plain": [
       "'spelling'"
      ]
     },
     "execution_count": 65,
     "metadata": {},
     "output_type": "execute_result"
    }
   ],
   "source": [
    "def get_word_count_or_one(word):\n",
    "    return word_counts.get(word, 1)\n",
    "\n",
    "def correct(word):\n",
    "    candidates = [e for e in edits1(word) if e in word_counts]\n",
    "    return max(candidates, key=get_word_count_or_one)\n",
    "\n",
    "correct('spellin')"
   ]
  }
 ],
 "metadata": {
  "kernelspec": {
   "display_name": "Python 3",
   "language": "python",
   "name": "python3"
  },
  "language_info": {
   "codemirror_mode": {
    "name": "ipython",
    "version": 3
   },
   "file_extension": ".py",
   "mimetype": "text/x-python",
   "name": "python",
   "nbconvert_exporter": "python",
   "pygments_lexer": "ipython3",
   "version": "3.5.2"
  }
 },
 "nbformat": 4,
 "nbformat_minor": 0
}
