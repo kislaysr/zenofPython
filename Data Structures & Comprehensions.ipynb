{
 "cells": [
  {
   "cell_type": "markdown",
   "metadata": {},
   "source": [
    "# Data Structures"
   ]
  },
  {
   "cell_type": "markdown",
   "metadata": {},
   "source": [
    "## List"
   ]
  },
  {
   "cell_type": "markdown",
   "metadata": {},
   "source": [
    "Lists are a sequence of comma seperated values between square brackets [] . Lists can be homogenoues as well as heterogenous "
   ]
  },
  {
   "cell_type": "markdown",
   "metadata": {},
   "source": [
    "![](images/alan_turing.png)\n",
    "**A homo-genius**"
   ]
  },
  {
   "cell_type": "code",
   "execution_count": 1,
   "metadata": {
    "collapsed": false
   },
   "outputs": [
    {
     "name": "stdout",
     "output_type": "stream",
     "text": [
      "a\n",
      "26.0\n",
      "[1, 3, 5, 3]\n"
     ]
    }
   ],
   "source": [
    "list1 = [1,3,'a',5.2] #heterogenous\n",
    "\n",
    "print(list1[2])\n",
    "print(list1[3]*5)\n",
    "\n",
    "list1[2] = 5\n",
    "list1[-1] = list1[1]\n",
    "\n",
    "print(list1)"
   ]
  },
  {
   "cell_type": "markdown",
   "metadata": {},
   "source": [
    "Lists and all the other python data structures are indexed from 0"
   ]
  },
  {
   "cell_type": "markdown",
   "metadata": {},
   "source": [
    "### Splicing"
   ]
  },
  {
   "cell_type": "code",
   "execution_count": 2,
   "metadata": {
    "collapsed": false
   },
   "outputs": [
    {
     "name": "stdout",
     "output_type": "stream",
     "text": [
      "[5, 2]\n",
      "[3, 7, 8, 2, 4, 6]\n",
      "[5, 2, 3, 7, 8, 2, 4]\n",
      "[2, 7, 2]\n",
      "[6, 4, 2, 8, 7, 3, 2, 5]\n"
     ]
    }
   ],
   "source": [
    "list2 = [5,2,3,7,8,2,4,6] #homogeneous\n",
    "\n",
    "print(list2[:2]) # first 2 elements\n",
    "print(list2[2:]) # 3rd to last elements\n",
    "print(list2[:-1]) # all elements but the last\n",
    "print(list2[1:6:2]) # 2nd to 9th while skipping alternates\n",
    "print(list2[::-1]) # reverse"
   ]
  },
  {
   "cell_type": "markdown",
   "metadata": {},
   "source": [
    "### Copy vs Reference"
   ]
  },
  {
   "cell_type": "code",
   "execution_count": 3,
   "metadata": {
    "collapsed": false
   },
   "outputs": [
    {
     "name": "stdout",
     "output_type": "stream",
     "text": [
      "[1, 2, 3] [1, 2, 3] [1, 2, 3]\n",
      "[1, 2, 5] [1, 2, 5] [1, 2, 3]\n"
     ]
    }
   ],
   "source": [
    "a = [1,2,3]\n",
    "b = a #reference\n",
    "c = a[:] #copy\n",
    "\n",
    "print(a,b,c)\n",
    "\n",
    "a[2] = 5\n",
    "\n",
    "print(a,b,c)\n"
   ]
  },
  {
   "cell_type": "markdown",
   "metadata": {},
   "source": [
    "### List Functions"
   ]
  },
  {
   "cell_type": "code",
   "execution_count": 4,
   "metadata": {
    "collapsed": false
   },
   "outputs": [
    {
     "name": "stdout",
     "output_type": "stream",
     "text": [
      "3\n",
      "[1, 2]\n",
      "[1, 2, 'a']\n",
      "['a', 2, 1]\n",
      "['a', 2, 1, 4, 2, 1]\n",
      "[4, 2, 1]\n"
     ]
    }
   ],
   "source": [
    "list3 = [1,2,3]\n",
    "\n",
    "print(len(list3))\n",
    "\n",
    "x =list3.pop()\n",
    "print(list3)\n",
    "\n",
    "list3.append('a')\n",
    "print(list3)\n",
    "\n",
    "a = list3.reverse()\n",
    "print(list3)\n",
    "\n",
    "list4 = [4,2,1,9]\n",
    "del(list4[3])\n",
    "\n",
    "print(list3 + list4)\n",
    "print(list3 and list4)"
   ]
  },
  {
   "cell_type": "markdown",
   "metadata": {},
   "source": [
    "## Tuples"
   ]
  },
  {
   "cell_type": "markdown",
   "metadata": {},
   "source": [
    "Tuples are immutable lists. They are represented by comma separated sequences in brackets ()"
   ]
  },
  {
   "cell_type": "code",
   "execution_count": 5,
   "metadata": {
    "collapsed": false
   },
   "outputs": [
    {
     "name": "stdout",
     "output_type": "stream",
     "text": [
      "(5, 3, 2)\n",
      "('a', 2, 1)\n"
     ]
    }
   ],
   "source": [
    "tuple1 = (5,3,2)\n",
    "tuple2 = tuple(list3)\n",
    "\n",
    "print(tuple1)\n",
    "print(tuple2)"
   ]
  },
  {
   "cell_type": "markdown",
   "metadata": {},
   "source": [
    "For a tuple with a single value (value,) is used. (value) results in the type of value"
   ]
  },
  {
   "cell_type": "code",
   "execution_count": 6,
   "metadata": {
    "collapsed": false
   },
   "outputs": [
    {
     "name": "stdout",
     "output_type": "stream",
     "text": [
      "(5, 3)\n",
      "(5, 3, 2, 1, 9)\n"
     ]
    },
    {
     "ename": "AttributeError",
     "evalue": "'tuple' object has no attribute 'append'",
     "output_type": "error",
     "traceback": [
      "\u001b[1;31m-------------------------------------------------------------------\u001b[0m",
      "\u001b[1;31mAttributeError\u001b[0m                    Traceback (most recent call last)",
      "\u001b[1;32m<ipython-input-6-48b47a760e80>\u001b[0m in \u001b[0;36m<module>\u001b[1;34m()\u001b[0m\n\u001b[0;32m      2\u001b[0m \u001b[0mprint\u001b[0m\u001b[1;33m(\u001b[0m\u001b[0mtuple1\u001b[0m \u001b[1;33m+\u001b[0m \u001b[1;33m(\u001b[0m\u001b[1;36m1\u001b[0m\u001b[1;33m,\u001b[0m\u001b[1;36m9\u001b[0m\u001b[1;33m)\u001b[0m\u001b[1;33m)\u001b[0m\u001b[1;33m\u001b[0m\u001b[0m\n\u001b[0;32m      3\u001b[0m \u001b[1;33m\u001b[0m\u001b[0m\n\u001b[1;32m----> 4\u001b[1;33m \u001b[0mtuple1\u001b[0m\u001b[1;33m.\u001b[0m\u001b[0mappend\u001b[0m\u001b[1;33m(\u001b[0m\u001b[1;36m2\u001b[0m\u001b[1;33m)\u001b[0m \u001b[1;31m# This will result in an error as the tuple can't be changed\u001b[0m\u001b[1;33m\u001b[0m\u001b[0m\n\u001b[0m",
      "\u001b[1;31mAttributeError\u001b[0m: 'tuple' object has no attribute 'append'"
     ]
    }
   ],
   "source": [
    "print(tuple1[0:2])\n",
    "print(tuple1 + (1,9))\n",
    "\n",
    "tuple1.append(2) # This will result in an error as the tuple can't be changed"
   ]
  },
  {
   "cell_type": "markdown",
   "metadata": {},
   "source": [
    "Other list functions which don't modify values in-place can be used for tuples"
   ]
  },
  {
   "cell_type": "markdown",
   "metadata": {},
   "source": [
    "## Sets"
   ]
  },
  {
   "cell_type": "markdown",
   "metadata": {},
   "source": [
    "Sets are immutable lists with unique values represented by squiggly brackets {}"
   ]
  },
  {
   "cell_type": "code",
   "execution_count": 7,
   "metadata": {
    "collapsed": false
   },
   "outputs": [
    {
     "name": "stdout",
     "output_type": "stream",
     "text": [
      "{2, 3, 5}\n",
      "{1, 2, 3, 5}\n",
      "{'m', 'p', 'a', 's'}\n",
      "\n",
      "True\n",
      "False\n"
     ]
    }
   ],
   "source": [
    "set1 = set(tuple1 + tuple([2,3]))\n",
    "set2 = {5,2,1,2,3}\n",
    "set3 = set('spam')\n",
    "\n",
    "print(set1)\n",
    "print(set2)\n",
    "print(set3)\n",
    "print(\"\")\n",
    "print('p' in set3)\n",
    "print(1 in set1)"
   ]
  },
  {
   "cell_type": "markdown",
   "metadata": {},
   "source": [
    "Set Mathematics"
   ]
  },
  {
   "cell_type": "code",
   "execution_count": 8,
   "metadata": {
    "collapsed": false
   },
   "outputs": [
    {
     "name": "stdout",
     "output_type": "stream",
     "text": [
      "True\n",
      "{1, 2, 3}\n",
      "{1, 2, 3, 4, 5, 6}\n",
      "{5, 6}\n"
     ]
    }
   ],
   "source": [
    "s1 = {1,2,3}\n",
    "s2 = {1,2,3,4,5,5,6}\n",
    "s3 = {2,3,5,6}\n",
    "\n",
    "print(s2 > s1) #superset\n",
    "print(s1 & s2) #intersection\n",
    "print(s1 | s2) #union\n",
    "print(s3 - s1) #difference"
   ]
  },
  {
   "cell_type": "markdown",
   "metadata": {},
   "source": [
    "## Dictionary"
   ]
  },
  {
   "cell_type": "markdown",
   "metadata": {},
   "source": [
    "Dictionaries are mappings of keys and their values. Repesented by {key:value,} and accessed by dictionary_name[key_name]"
   ]
  },
  {
   "cell_type": "code",
   "execution_count": 9,
   "metadata": {
    "collapsed": false
   },
   "outputs": [
    {
     "name": "stdout",
     "output_type": "stream",
     "text": [
      "{'tue': 2, 'wed': 3, 'mon': 1}\n",
      "2\n",
      "\n",
      "{'b': 2, 'a': 1, 'c': 'cat'}\n",
      "dict_keys(['b', 'a', 'c'])\n",
      "\n",
      "cake\n"
     ]
    },
    {
     "ename": "KeyError",
     "evalue": "-1",
     "output_type": "error",
     "traceback": [
      "\u001b[1;31m-------------------------------------------------------------------\u001b[0m",
      "\u001b[1;31mKeyError\u001b[0m                          Traceback (most recent call last)",
      "\u001b[1;32m<ipython-input-9-eafbf6a088a5>\u001b[0m in \u001b[0;36m<module>\u001b[1;34m()\u001b[0m\n\u001b[0;32m     11\u001b[0m \u001b[0mdict3\u001b[0m \u001b[1;33m=\u001b[0m \u001b[0mdict\u001b[0m\u001b[1;33m(\u001b[0m\u001b[0mname\u001b[0m\u001b[1;33m=\u001b[0m\u001b[1;34m'cake'\u001b[0m\u001b[1;33m,\u001b[0m\u001b[0mquestion\u001b[0m \u001b[1;33m=\u001b[0m \u001b[1;34m'what'\u001b[0m\u001b[1;33m)\u001b[0m\u001b[1;33m\u001b[0m\u001b[0m\n\u001b[0;32m     12\u001b[0m \u001b[0mprint\u001b[0m\u001b[1;33m(\u001b[0m\u001b[0mdict3\u001b[0m\u001b[1;33m[\u001b[0m\u001b[1;34m'name'\u001b[0m\u001b[1;33m]\u001b[0m\u001b[1;33m)\u001b[0m\u001b[1;33m\u001b[0m\u001b[0m\n\u001b[1;32m---> 13\u001b[1;33m \u001b[0mprint\u001b[0m\u001b[1;33m(\u001b[0m\u001b[0mdict3\u001b[0m\u001b[1;33m[\u001b[0m\u001b[1;33m-\u001b[0m\u001b[1;36m1\u001b[0m\u001b[1;33m]\u001b[0m\u001b[1;33m)\u001b[0m \u001b[1;31m# Will throw an error\u001b[0m\u001b[1;33m\u001b[0m\u001b[0m\n\u001b[0m",
      "\u001b[1;31mKeyError\u001b[0m: -1"
     ]
    }
   ],
   "source": [
    "dict1 = {'mon':1,'tue':2,'wed':3}\n",
    "print(dict1)\n",
    "print(dict1['tue'])\n",
    "print(\"\")\n",
    "\n",
    "dict2 = dict([['a',1],['b',2],['c','cat']])\n",
    "print(dict2)\n",
    "print(dict2.keys())\n",
    "print(\"\")\n",
    "\n",
    "dict3 = dict(name='cake',question = 'what')\n",
    "print(dict3['name'])\n",
    "print(dict3[-1]) # Will throw an error"
   ]
  },
  {
   "cell_type": "markdown",
   "metadata": {},
   "source": [
    "Some dictionary functions"
   ]
  },
  {
   "cell_type": "code",
   "execution_count": 10,
   "metadata": {
    "collapsed": false
   },
   "outputs": [
    {
     "name": "stdout",
     "output_type": "stream",
     "text": [
      "cake\n",
      "52\n",
      "dict_items([('question', 'what'), ('name', 'cake')])\n",
      "{'b': 2, 'a': 2, 'c': 'cat'}\n"
     ]
    }
   ],
   "source": [
    "print(dict3.get('name',8))\n",
    "print(dict3.get('hello',52))\n",
    "print(dict3.items())\n",
    "dict2['a'] += 1\n",
    "print(dict2)"
   ]
  },
  {
   "cell_type": "markdown",
   "metadata": {},
   "source": [
    "# Comprehensions"
   ]
  },
  {
   "cell_type": "markdown",
   "metadata": {},
   "source": [
    "List comprehensions are an easier alternative to for loops which are optimized for creation of lists. Set and tuple comprehensions are also available"
   ]
  },
  {
   "cell_type": "markdown",
   "metadata": {},
   "source": [
    "![](images/listComprehensions.gif)"
   ]
  },
  {
   "cell_type": "code",
   "execution_count": 35,
   "metadata": {
    "collapsed": false
   },
   "outputs": [
    {
     "name": "stdout",
     "output_type": "stream",
     "text": [
      "[0, 1, 4, 9, 16, 25, 36, 49, 64]\n",
      "\n",
      "{'cat', 'lie', 'cak', 'a', 'the', 'is', 'dog'}\n",
      "\n",
      "(0, 4, 16, 36, 64)\n",
      "\n",
      "[2, 3, 5, 7, 11, 13, 17, 19, 23, 29, 31, 37, 41, 43, 47]\n",
      "\n",
      "[2, 3, 5, 7, 11, 13, 17, 19, 23, 29, 31, 37, 41, 43, 47]\n"
     ]
    }
   ],
   "source": [
    "S = [x*x for x in range(0,9)]\n",
    "print(S)\n",
    "print(\"\")\n",
    "\n",
    "words = ['catch','cat','dog','doghouse','the','cake','is','a','lie']\n",
    "s1 = {w[:3] for w in words}\n",
    "print(s1)\n",
    "print(\"\")\n",
    "\n",
    "t = tuple(x for x in S if x%2==0)\n",
    "print(t)\n",
    "print(\"\")\n",
    "\n",
    "noprimes = [j for i in range(2, 8) for j in range(i*2, 50, i)]\n",
    "primes = [x for x in range(2, 50) if x not in noprimes]\n",
    "print(primes)\n",
    "print(\"\")\n",
    "\n",
    "print([x for x in range(2,50) if x not in [j for i in range(2, 8) for j in range(i*2, 50, i)]])"
   ]
  },
  {
   "cell_type": "markdown",
   "metadata": {},
   "source": [
    "Matrix Operations"
   ]
  },
  {
   "cell_type": "code",
   "execution_count": 59,
   "metadata": {
    "collapsed": false
   },
   "outputs": [
    {
     "name": "stdout",
     "output_type": "stream",
     "text": [
      "45\n",
      "45\n"
     ]
    }
   ],
   "source": [
    "matrix = [[1,2,3],[4,5,6],[7,8,9]]\n",
    "\n",
    "#SUM\n",
    "ctr = 0\n",
    "for i in matrix:\n",
    "    for j in i:\n",
    "        ctr += j\n",
    "print(ctr)\n",
    "\n",
    "print(sum([sum(x) for x in matrix]))\n"
   ]
  },
  {
   "cell_type": "code",
   "execution_count": 60,
   "metadata": {
    "collapsed": false
   },
   "outputs": [
    {
     "name": "stdout",
     "output_type": "stream",
     "text": [
      "[6, 15, 24]\n",
      "[6, 15, 24]\n"
     ]
    }
   ],
   "source": [
    "#Sum of rows\n",
    "a = []\n",
    "for i in matrix:\n",
    "     a.append(sum(i))\n",
    "print(a)\n",
    "\n",
    "print([sum(x) for x in matrix])\n"
   ]
  },
  {
   "cell_type": "code",
   "execution_count": 61,
   "metadata": {
    "collapsed": false
   },
   "outputs": [
    {
     "name": "stdout",
     "output_type": "stream",
     "text": [
      "[2, 5, 8]\n",
      "[2, 5, 8]\n"
     ]
    }
   ],
   "source": [
    "#Column 2\n",
    "b = []\n",
    "for i in matrix:\n",
    "    b.append(i[1])\n",
    "print(b)\n",
    "\n",
    "print([row[1] for row in matrix])"
   ]
  }
 ],
 "metadata": {
  "kernelspec": {
   "display_name": "Python 3",
   "language": "python",
   "name": "python3"
  },
  "language_info": {
   "codemirror_mode": {
    "name": "ipython",
    "version": 3
   },
   "file_extension": ".py",
   "mimetype": "text/x-python",
   "name": "python",
   "nbconvert_exporter": "python",
   "pygments_lexer": "ipython3",
   "version": "3.5.2"
  }
 },
 "nbformat": 4,
 "nbformat_minor": 0
}
