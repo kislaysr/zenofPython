{
 "cells": [
  {
   "cell_type": "markdown",
   "metadata": {},
   "source": [
    "# Running code from command prompt."
   ]
  },
  {
   "cell_type": "code",
   "execution_count": 1,
   "metadata": {
    "collapsed": false
   },
   "outputs": [
    {
     "name": "stdout",
     "output_type": "stream",
     "text": [
      "Hello World\n"
     ]
    }
   ],
   "source": [
    "print(\"Hello World\")\n"
   ]
  },
  {
   "cell_type": "code",
   "execution_count": null,
   "metadata": {
    "collapsed": true
   },
   "outputs": [],
   "source": [
    "the_world_is_flat = True\n",
    "\t if the_world_is_flat:        #concept will be discussed later\n",
    " \t\tprint(\"Be careful not to fall off!\")"
   ]
  },
  {
   "cell_type": "markdown",
   "metadata": {},
   "source": [
    "Source Code Encoding:\n",
    "\t\tPython source code are treated as UTF-8 encoded by default. \n",
    "\t\tStandard library only uses ASCII identifier.\n",
    "\t\tUser defined  encoding.\n",
    "\t\t# -*- coding: encoding -*-\n",
    "\t\t# -*- coding: cp-1252 -* # windows 1252 encoding"
   ]
  },
  {
   "cell_type": "markdown",
   "metadata": {},
   "source": [
    "# I/O"
   ]
  },
  {
   "cell_type": "markdown",
   "metadata": {},
   "source": [
    "1: From files"
   ]
  },
  {
   "cell_type": "code",
   "execution_count": null,
   "metadata": {
    "collapsed": true
   },
   "outputs": [],
   "source": [
    "person = input('Enter your name: ')\n",
    "\tprint('Hello', person)"
   ]
  },
  {
   "cell_type": "markdown",
   "metadata": {},
   "source": [
    "# 2: Typecasting"
   ]
  },
  {
   "cell_type": "markdown",
   "metadata": {},
   "source": [
    "Indirect Coversion"
   ]
  },
  {
   "cell_type": "code",
   "execution_count": null,
   "metadata": {
    "collapsed": true
   },
   "outputs": [],
   "source": [
    "xString = input(\"Enter a number: \")\n",
    "\tx = int(xString)\n",
    "\tyString = input(\"Enter a second number: \")\n",
    "\ty = int(yString)"
   ]
  },
  {
   "cell_type": "markdown",
   "metadata": {},
   "source": [
    "Direct Conversion"
   ]
  },
  {
   "cell_type": "code",
   "execution_count": null,
   "metadata": {
    "collapsed": true
   },
   "outputs": [],
   "source": [
    "  '''Two numeric inputs, with immediate conversion'''\n",
    "\n",
    "\tx = int(input(\"Enter a number: \"))\n",
    "\ty = int(input(\"Enter a second number: \"))\n",
    "\tprint('The sum of ', x, ' and ', y, ' is ', x+y, '.', sep='')"
   ]
  },
  {
   "cell_type": "markdown",
   "metadata": {},
   "source": [
    "# 3: Data Types:\n",
    "int ,string,float , decimal ,fraction, imaginory\n",
    "(complex datastructures)-list ,dictionary,tuples"
   ]
  },
  {
   "cell_type": "markdown",
   "metadata": {},
   "source": [
    "# 4.Integer formatting:"
   ]
  },
  {
   "cell_type": "code",
   "execution_count": null,
   "metadata": {
    "collapsed": true
   },
   "outputs": [],
   "source": [
    "#Round\n",
    "print(\"round(80.23456, 2) : \", round(80.23456, 2))"
   ]
  },
  {
   "cell_type": "markdown",
   "metadata": {},
   "source": [
    "# .format()"
   ]
  },
  {
   "cell_type": "code",
   "execution_count": null,
   "metadata": {
    "collapsed": true
   },
   "outputs": [],
   "source": [
    "#integer example \n",
    "print('{:d}'.format(42))"
   ]
  },
  {
   "cell_type": "code",
   "execution_count": null,
   "metadata": {
    "collapsed": true
   },
   "outputs": [],
   "source": [
    "#default float example\n",
    "print('{:f}'.format(3.141592653589793))"
   ]
  },
  {
   "cell_type": "markdown",
   "metadata": {},
   "source": [
    "# Padding numbers\n"
   ]
  },
  {
   "cell_type": "code",
   "execution_count": null,
   "metadata": {
    "collapsed": true
   },
   "outputs": [],
   "source": [
    "#integer four places(2 space padding)\n",
    "print('{:4d}'.format(42))"
   ]
  },
  {
   "cell_type": "markdown",
   "metadata": {},
   "source": [
    "Again similar to truncating strings the precision for floating point numbers limits the number of positions after the decimal point.\n",
    "\n",
    "For floating points the padding value represents the length of the complete output. In the example below we want our output to have at least 6 characters with 2 after the decimal point.\n"
   ]
  },
  {
   "cell_type": "code",
   "execution_count": null,
   "metadata": {
    "collapsed": true
   },
   "outputs": [],
   "source": [
    "#old\n",
    "print(\"old Way :: \",'%06.2f' % (3.141592653589793,))\n",
    "\n",
    "#new\n",
    "print(\"New Way:: \",'{:06.2f}'.format(3.141592653589793))"
   ]
  },
  {
   "cell_type": "markdown",
   "metadata": {},
   "source": [
    "# error\n",
    "For integer values providing a precision doesn't make much sense and is actually forbidden\n",
    "in the new style (it will result in a ValueError)."
   ]
  },
  {
   "cell_type": "code",
   "execution_count": null,
   "metadata": {
    "collapsed": true
   },
   "outputs": [],
   "source": [
    "#error \n",
    "#in new way\n",
    "print('{:04.2d}'.format(42))\n",
    "#but work in old way\n",
    "print(\"%04.2d\"%42)"
   ]
  },
  {
   "cell_type": "markdown",
   "metadata": {},
   "source": [
    "# Signed numbers\n",
    "By default only negative numbers are prefixed with a sign. This can be changed of course.\n"
   ]
  },
  {
   "cell_type": "code",
   "execution_count": null,
   "metadata": {
    "collapsed": true
   },
   "outputs": [],
   "source": [
    "#old way\n",
    "print(\"%+d\"%42)\n",
    "#new way\n",
    "print('{:+d}'.format(42))\n"
   ]
  },
  {
   "cell_type": "markdown",
   "metadata": {},
   "source": [
    "# Python as Calculator:"
   ]
  },
  {
   "cell_type": "code",
   "execution_count": null,
   "metadata": {
    "collapsed": true
   },
   "outputs": [],
   "source": [
    "2 + 2\n",
    "50 - 5\n",
    "6*20\n",
    "(50 - 5*6) / 4\n",
    "8 / 5 # division always returns a floating point number\n",
    "17 // 3 # floor division discards the fractional part\n",
    "17 % 3 # the % operator returns the remainder of the division\n",
    "2\n",
    " 5*3 + 2 # result*divisor + remainder\n",
    "17\n",
    "\n"
   ]
  },
  {
   "cell_type": "code",
   "execution_count": null,
   "metadata": {
    "collapsed": true
   },
   "outputs": [],
   "source": [
    "#Last answer is stored in _\n",
    "tax = 12.5 / 100\n",
    "price = 100.50\n",
    "price*tax\n",
    "price + _\n",
    "round(_, 2)\n",
    "113.06"
   ]
  },
  {
   "cell_type": "markdown",
   "metadata": {},
   "source": [
    "# imaginory number"
   ]
  },
  {
   "cell_type": "code",
   "execution_count": null,
   "metadata": {
    "collapsed": true
   },
   "outputs": [],
   "source": [
    "3 + 4j + 7 - 7j"
   ]
  },
  {
   "cell_type": "code",
   "execution_count": null,
   "metadata": {
    "collapsed": true
   },
   "outputs": [],
   "source": [
    "#??What will be output ??\n",
    "3 + 4j * 7 - 7j"
   ]
  },
  {
   "cell_type": "code",
   "execution_count": null,
   "metadata": {
    "collapsed": true
   },
   "outputs": [],
   "source": [
    "#??what will be Output ??\n",
    "(3+4j) * (7-7j)"
   ]
  }
 ],
 "metadata": {
  "kernelspec": {
   "display_name": "Python 3",
   "language": "python",
   "name": "python3"
  },
  "language_info": {
   "codemirror_mode": {
    "name": "ipython",
    "version": 3
   },
   "file_extension": ".py",
   "mimetype": "text/x-python",
   "name": "python",
   "nbconvert_exporter": "python",
   "pygments_lexer": "ipython3",
   "version": "3.4.3"
  }
 },
 "nbformat": 4,
 "nbformat_minor": 0
}
