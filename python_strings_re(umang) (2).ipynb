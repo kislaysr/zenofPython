{
 "cells": [
  {
   "cell_type": "markdown",
   "metadata": {},
   "source": [
    "# Python Strings\n"
   ]
  },
  {
   "cell_type": "raw",
   "metadata": {},
   "source": [
    "1. Python has a built-in string class named \"str\" with many handy features.\n",
    "2. String literals can be enclosed by either double or single quotes.\n",
    "3. String literals inside triple quotes, \"\"\"\" or ''', can add multiple lines of text.\n",
    "4. Python strings are \"immutable\" which means they cannot be changed after they are created.\n",
    "5. The '+' operator can concatenate two strings.\n",
    "6. The len(string) function returns the length of a string. "
   ]
  },
  {
   "cell_type": "code",
   "execution_count": 4,
   "metadata": {
    "collapsed": false
   },
   "outputs": [
    {
     "name": "stdout",
     "output_type": "stream",
     "text": [
      "It was the best of times.\n",
      "  It was the worst of times.\n"
     ]
    }
   ],
   "source": [
    "multi = \"\"\"It was the best of times.\n",
    "  It was the worst of times.\"\"\"\n",
    "print(multi)"
   ]
  },
  {
   "cell_type": "code",
   "execution_count": 1,
   "metadata": {
    "collapsed": false
   },
   "outputs": [
    {
     "name": "stdout",
     "output_type": "stream",
     "text": [
      "Hello there\n"
     ]
    }
   ],
   "source": [
    "s1=\"Hello\"\n",
    "s2=\" there\"\n",
    "print(s1+s2)\n"
   ]
  },
  {
   "cell_type": "raw",
   "metadata": {},
   "source": [
    "1. The [ ] syntax and the len() function actually work on any sequence type -- strings, lists, etc. \n",
    "2. Python tries to make its operations work consistently across different types.\n",
    "3. The '+' does not automatically convert numbers or other types to string form. \n",
    "4. The str() function converts values to a string form so they can be combined with other strings."
   ]
  },
  {
   "cell_type": "code",
   "execution_count": 3,
   "metadata": {
    "collapsed": false
   },
   "outputs": [
    {
     "name": "stdout",
     "output_type": "stream",
     "text": [
      "The value of pi is 3.14\n"
     ]
    }
   ],
   "source": [
    "  pi = 3.14\n",
    "  ##text = 'The value of pi is ' + pi      ## NO, does not work\n",
    "  text = 'The value of pi is '  + str(pi)  ## yes\n",
    "print(text)"
   ]
  },
  {
   "cell_type": "raw",
   "metadata": {},
   "source": [
    "1. A \"raw\" string literal is prefixed by an 'r' and passes all the characters through without special treatment of backslashes,    so r'x\\nx' evaluates to the length-4 string 'x\\nx'.\n",
    "2. A 'u' prefix allows you to write a unicode string literal.\n",
    "  \n"
   ]
  },
  {
   "cell_type": "code",
   "execution_count": 7,
   "metadata": {
    "collapsed": false
   },
   "outputs": [
    {
     "name": "stdout",
     "output_type": "stream",
     "text": [
      "this\\t\\n and that\n",
      "this \tand\n",
      " that\n"
     ]
    }
   ],
   "source": [
    "raw1 = r'this\\tand\\n that'\n",
    "s1='this \\tand\\n that'\n",
    "print(raw) \n",
    "print(s1)"
   ]
  },
  {
   "cell_type": "markdown",
   "metadata": {
    "collapsed": true
   },
   "source": [
    "# String Slices\n",
    "\n",
    "1. The \"slice\" syntax is a handy way to refer to sub-parts of sequences -- typically strings and lists. \n",
    "2. The slice s[start:end] is the elements beginning at start and extending up to but not including end. \n",
    "\n",
    "![Indexing of Hello](https://developers.google.com/edu/python/images/hello.png \"Indexing of Hello\")\n",
    "\n",
    "*\ts[1:4] is 'ell' -- chars starting at index 1 and extending up to but not including index 4.\n",
    "*\ts[1:] is 'ello' -- omitting either index defaults to the start or end of the string.\n",
    "*\ts[:] is 'Hello' -- omitting both always gives us a copy of the whole thing (this is the pythonic way to copy a sequence like     a string or list).\n",
    "*\ts[1:100] is 'ello' -- an index that is too big is truncated down to the string length.\n",
    "*\ts[:-3] is 'He' -- going up to but not including the last 3 chars.\n",
    "*\ts[-3:] is 'llo' -- starting with the 3rd char from the end and extending to the end of the string.\n",
    "\n",
    "+ It is a neat truism of slices that for any index n, s[:n] + s[n:] == s.\n",
    "\n",
    "\n"
   ]
  },
  {
   "cell_type": "code",
   "execution_count": 13,
   "metadata": {
    "collapsed": false
   },
   "outputs": [
    {
     "name": "stdout",
     "output_type": "stream",
     "text": [
      "ell\n",
      "ello\n",
      "ello\n",
      "He\n",
      "Hello\n"
     ]
    }
   ],
   "source": [
    "s=\"Hello\"\n",
    "print(s[1:4])\n",
    "print(s[1:])\n",
    "print(s[1:100])\n",
    "print(s[:-3])\n",
    "print(s[:1]+s[1:])"
   ]
  },
  {
   "cell_type": "markdown",
   "metadata": {},
   "source": [
    "# MOST COMMON STRING METHODS\n",
    "\n",
    "\n",
    "1. ```s.lower(), s.upper()``` -- returns the lowercase or uppercase version of the string.\n",
    "\n",
    "2. ```s.strip()``` -- returns a string with whitespace removed from the start and end.\n",
    "\n",
    "3. ```s.isalpha()/s.isdigit()/s.isspace()``` -- tests if all the string chars are in the various character classes.\n",
    "\n",
    "4. ```s.startswith('other'), s.endswith('other')``` -- tests if the string starts or ends with the given other string.\n",
    "\n",
    "5. ```s.find('other')``` -- searches for the given other string (not a regular expression) within s, and returns the first index where    it begins or -1 if not found.\n",
    "\n",
    "6. ```s.replace('old', 'new')``` -- returns a string where all occurrences of 'old' have been replaced by 'new'.\n",
    "\n",
    "7. ```s.split('delim')``` -- returns a list of substrings separated by the given delimiter. The delimiter is not a regular expression,    it's just text.``` 'aaa,bbb,ccc'.split(',') -> ['aaa', 'bbb', 'ccc']```. As a convenient special case ```s.split()``` (with no arguments)    splits on all whitespace chars.\n",
    "\n",
    "8. ```s.join(list)``` -- opposite of ```split()```, joins the elements in the given list together using the string as the delimiter. e.g. '-    --'.join(['aaa', 'bbb', 'ccc']) -> aaa---bbb---ccc .\n"
   ]
  },
  {
   "cell_type": "code",
   "execution_count": 14,
   "metadata": {
    "collapsed": false
   },
   "outputs": [
    {
     "name": "stdout",
     "output_type": "stream",
     "text": [
      "IEEE CS\n",
      "Good formation\n"
     ]
    }
   ],
   "source": [
    "#Check capital\n",
    "\n",
    "#  Q- Given a string, design an algorithm and write the Python code to check if the word is good in formation.A word is \n",
    "#    \"Badly formed\" if a capital letter occurs in the middle or end. A string with all capital letters is OK. \n",
    "#     Print 'Good formation' or 'Badly formed'\n",
    "\n",
    "s=input()\n",
    "if s==s.capitalize() or s==s.upper() :\n",
    "\tprint(\"Good formation\")\n",
    "else:\n",
    "\tprint(\"Badly formed\")"
   ]
  },
  {
   "cell_type": "code",
   "execution_count": 10,
   "metadata": {
    "collapsed": false
   },
   "outputs": [
    {
     "name": "stdout",
     "output_type": "stream",
     "text": [
      "Python\n",
      "5\n",
      "Udymts"
     ]
    }
   ],
   "source": [
    "#Caesor Cipher\n",
    "\n",
    "# Q- Given a word, use caesar cipher to encrypt it. In caesar cipher, each letter is replaced by another letter in distance 'd' \n",
    "#    in alphabet. For example, if the word is 'ball' and 'd' is 3 then the new encrypted word is 'edoo'. \n",
    "#    'x' will replaced by 'a', 'y' should be replaced by 'b' and 'z' should be replaced by 'c'.\n",
    "\n",
    "s=input()\n",
    "d=int(input())\n",
    "for i in range(0,len(s)):\n",
    "\tx=(ord(s[i])+d)\n",
    "\tif x>ord('z') :\n",
    "\t\tx=x-26\n",
    "\tprint(chr(x),end='')"
   ]
  },
  {
   "cell_type": "markdown",
   "metadata": {},
   "source": [
    "# Python Regular Expressions"
   ]
  },
  {
   "cell_type": "raw",
   "metadata": {},
   "source": [
    "1. Regular expressions are a powerful language for matching text patterns.\n",
    "2. The Python \"re\" module provides regular expression support. #Eg- import re\n",
    "\n",
    "\n"
   ]
  },
  {
   "cell_type": "markdown",
   "metadata": {},
   "source": [
    "# Method/Attribute\tPurpose\n",
    "\n",
    "            match()  \t        Determine if the RE matches at the beginning of the string.\n",
    "            search()\t        Scan through a string, looking for any location where this RE matches.\n",
    "            findall()\t        Find all substrings where the RE matches, and returns them as a list.\n",
    "            \n",
    "\n"
   ]
  },
  {
   "cell_type": "markdown",
   "metadata": {},
   "source": [
    "# Basic Patterns\n",
    "\n",
    "The power of regular expressions is that they can specify patterns, not just fixed characters. Here are the most basic patterns which match single chars:\n",
    "\n",
    "•\ta, X, 9, < -- ordinary characters just match themselves exactly. \n",
    "\n",
    "The meta-characters which do not match themselves because they have special meanings are: . ^ $ * + ? { [ ] \\ | ( ) (details below)\n",
    "•\t. (a period) -- matches any single character except newline '\\n'\n",
    "\n",
    "•\t\\w -- (lowercase w) matches a \"word\" character: a letter or digit or underbar [a-zA-Z0-9_]. Note that although \"word\" is the     mnemonic for this, it only matches a single word char, not a whole word.\n",
    "    \\W (upper case W) matches any non-word character.\n",
    "    \n",
    "•\t\\b -- boundary between word and non-word.\n",
    "\n",
    "•\t\\s -- (lowercase s) matches a single whitespace character -- space, newline, return, tab, form [ \\n\\r\\t\\f].\n",
    "    \\S (upper case S) matches any non-whitespace character.\n",
    "    \n",
    "•\t\\t, \\n, \\r -- tab, newline, return.\n",
    "\n",
    "•\t\\d -- decimal digit [0-9] (some older regex utilities do not support but \\d, but they all support \\w and \\s).\n",
    "\n",
    "•\t^ = start, $ = end -- match the start or end of the string.\n",
    "\n",
    "•\t\\ -- inhibit the \"specialness\" of a character. So, for example, use \\. to match a period or \\\\ to match a slash. If you are     unsure if a character has special meaning, such as '@', you can put a slash in front of it, \\@, to make sure it is treated       just as a character.\n"
   ]
  },
  {
   "cell_type": "code",
   "execution_count": 29,
   "metadata": {
    "collapsed": false,
    "scrolled": true
   },
   "outputs": [
    {
     "name": "stdout",
     "output_type": "stream",
     "text": [
      "matchObj.group() :  Cats are smarter than dogs\n",
      "matchObj.group(1) :  Cats\n",
      "matchObj.group(2) :  smarter\n"
     ]
    }
   ],
   "source": [
    "#group()       Returns the string matched by the RE\n",
    "#group(i)      Return the i(th) substring of the complete string matched by the RE. i=1,2,3,4,5 etc.\n",
    "import re\n",
    "line = \"Cats are smarter than dogs\"\n",
    "matchObj = re.match( r'(.*) are (.*?) .*', line)\n",
    "if matchObj:\n",
    "    print(\"matchObj.group() : \", matchObj.group())\n",
    "    print(\"matchObj.group(1) : \", matchObj.group(1))\n",
    "    print(\"matchObj.group(2) : \", matchObj.group(2))\n",
    "else:\n",
    "    print(\"No match!!\")"
   ]
  },
  {
   "cell_type": "markdown",
   "metadata": {},
   "source": [
    "# re.search() method\n",
    "\n",
    "The re.search() method takes a regular expression pattern and a string and searches for that pattern within the string.\n",
    "If the search is successful, search() returns a match object or None otherwise.\n",
    "\n",
    "Explanation of following code-\n",
    "* The code match = re.search(pat, str) stores the search result in a variable named \"match\". \n",
    "* Then the if-statement tests the match - if true the search succeeded.\n",
    "* Otherwise if the match is false (None to be more specific), then the search did not succeed, and there is no matching text.\n",
    "\n"
   ]
  },
  {
   "cell_type": "code",
   "execution_count": 20,
   "metadata": {
    "collapsed": false
   },
   "outputs": [
    {
     "name": "stdout",
     "output_type": "stream",
     "text": [
      "found\n"
     ]
    }
   ],
   "source": [
    "import re\n",
    "str = 'an example word:cat!!'\n",
    "match = re.search(r'word:\\w\\w\\w', str)\n",
    "# If-statement after search() tests if it succeeded\n",
    "if(match):                      \n",
    "    print('found')\n",
    "else:\n",
    "    print('did not find')\n"
   ]
  },
  {
   "cell_type": "markdown",
   "metadata": {},
   "source": [
    "# Method/Attribute\tPurpose\n",
    "\n",
    "               group()\t        Return the string matched by the RE\n",
    "               start()\t        Return the starting position of the match\n",
    "               end()\t        Return the ending position of the match\n",
    "               \n"
   ]
  },
  {
   "cell_type": "code",
   "execution_count": null,
   "metadata": {
    "collapsed": true
   },
   "outputs": [],
   "source": [
    "## Search for pattern 'iii' in string 'piiig'.\n",
    "## All of the pattern must match, but it may appear anywhere.\n",
    "## On success, match.group() is matched text.\n",
    "match = re.search(r'iii', 'piiig') =>  found, match.group() == \"iii\"\n",
    "match = re.search(r'igs', 'piiig') =>  not found, match == None\n",
    "\n",
    "## . = any char but \\n\n",
    "match = re.search(r'..g', 'piiig') =>  found, match.group() == \"iig\"\n",
    "\n",
    "## \\d = digit char, \\w = word char\n",
    "match = re.search(r'\\d\\d\\d', 'p123g') =>  found, match.group() == \"123\"\n",
    "match = re.search(r'\\w\\w\\w', '@@abcd!!') =>  found, match.group() == \"abc\"\n"
   ]
  },
  {
   "cell_type": "markdown",
   "metadata": {},
   "source": [
    "# Repetition\n",
    "Things get more interesting when you use + and * to specify repetition in the pattern\n",
    "\n",
    "-\t'pat+' -- 1 or more occurrences of the pattern to its left, e.g. 'i+' = one or more i's.\n",
    "-\t'pat*' -- 0 or more occurrences of the pattern to its left.\n",
    "*\t'pat?' -- match 0 or 1 occurrences of the pattern to its left.\n",
    "\n",
    "\n",
    "# NOTE - Leftmost & Largest\n",
    "\n",
    "First the search finds the leftmost match for the pattern, and second it tries to use up as much of the string as possible -- i.e. + and * go as far as possible (the + and * are said to be \"greedy\").\n"
   ]
  },
  {
   "cell_type": "code",
   "execution_count": null,
   "metadata": {
    "collapsed": true
   },
   "outputs": [],
   "source": [
    "  ## i+ = one or more i's, as many as possible.\n",
    "  match = re.search(r'pi+', 'piiig') =>  found, match.group() == \"piii\"\n",
    "\n",
    "  ## Finds the first/leftmost solution, and within it drives the +\n",
    "  ## as far as possible (aka 'leftmost and largest').\n",
    "  ## In this example, note that it does not get to the second set of i's.\n",
    "  match = re.search(r'i+', 'piigiiii') =>  found, match.group() == \"ii\"\n",
    "\n",
    "  ## \\s* = zero or more whitespace chars\n",
    "  ## Here look for 3 digits, possibly separated by whitespace.\n",
    "  match = re.search(r'\\d\\s*\\d\\s*\\d', 'xx1 2   3xx') =>  found, match.group() == \"1 2   3\"\n",
    "  match = re.search(r'\\d\\s*\\d\\s*\\d', 'xx12  3xx') =>  found, match.group() == \"12  3\"\n",
    "  match = re.search(r'\\d\\s*\\d\\s*\\d', 'xx123xx') =>  found, match.group() == \"123\"\n",
    "\n",
    "  ## ^ = matches the start of string, so this fails:\n",
    "  match = re.search(r'^b\\w+', 'foobar') =>  not found, match == None\n",
    "  ## but without the ^ it succeeds:\n",
    "  match = re.search(r'b\\w+', 'foobar') =>  found, match.group() == \"bar\"\n"
   ]
  },
  {
   "cell_type": "markdown",
   "metadata": {},
   "source": [
    "# Square Brackets\n",
    "\n",
    "* Square brackets can be used to indicate a set of chars, so [abc] matches 'a' or 'b' or 'c'. \n",
    "* The codes \\w, \\s etc. work inside square brackets too with the one exception that dot (.) just means a literal dot.\n",
    "* For the emails problem, the square brackets are an easy way to add '.' and '-' to the set of chars which can appear around the @ with the pattern r'[\\w.-]+@[\\w.-]+' to get the whole email address:\n",
    " \n",
    "# More square-bracket features\n",
    "\n",
    "* You can also use a dash to indicate a range, so [a-z] matches all lowercase letters.\n",
    "* To use a dash without indicating a range, put the dash last, e.g. [abc-]. \n",
    "* An up-hat (^) at the start of a square-bracket set inverts it, so [^ab] means any char except 'a' or 'b'.\n",
    "\n",
    "\n"
   ]
  },
  {
   "cell_type": "code",
   "execution_count": 27,
   "metadata": {
    "collapsed": false
   },
   "outputs": [
    {
     "name": "stdout",
     "output_type": "stream",
     "text": [
      "alice-b@google.com\n"
     ]
    }
   ],
   "source": [
    "import re\n",
    "str='alice-b@google.com'\n",
    "match = re.search(r'[\\w.-]+@[\\w.-]+', str)\n",
    "if match:\n",
    "    print(match.group()) "
   ]
  },
  {
   "cell_type": "markdown",
   "metadata": {},
   "source": [
    "# Example\tDescription\n",
    "\n",
    "        [Pp]ython\tMatch \"Python\" or \"python\"\n",
    "        rub[ye]  \tMatch \"ruby\" or \"rube\"\n",
    "        [aeiou]\t    Match any one lowercase vowel\n",
    "        [0-9]       Match any digit; same as [0123456789]\n",
    "        [a-z]\t    Match any lowercase ASCII letter\n",
    "        [A-Z]\t    Match any uppercase ASCII letter\n",
    "        [a-zA-Z0-9]\tMatch any of the above\n",
    "        [^aeiou]\tMatch anything other than a lowercase vowel\n",
    "        [^0-9]  \tMatch anything other than a digit\n",
    "        "
   ]
  },
  {
   "cell_type": "markdown",
   "metadata": {},
   "source": [
    "# findall()\n",
    "\n",
    "* findall() is probably the single most powerful function in the re module. \n",
    "* findall() finds *all* the matches and returns them as a list of strings, with each string representing one match WHEREAS         re.search() is used to find the first match for a pattern.\n"
   ]
  },
  {
   "cell_type": "code",
   "execution_count": 28,
   "metadata": {
    "collapsed": false
   },
   "outputs": [
    {
     "name": "stdout",
     "output_type": "stream",
     "text": [
      "alice@google.com\n",
      "bob@abc.com\n"
     ]
    }
   ],
   "source": [
    "## Suppose we have a text with many email addresses\n",
    "str = 'purple alice@google.com, blah monkey bob@abc.com blah dishwasher'\n",
    "\n",
    "## Here re.findall() returns a list of all the found email strings\n",
    "emails = re.findall(r'[\\w\\.-]+@[\\w\\.-]+', str) \n",
    "for email in emails:\n",
    "# do something with each found email string\n",
    "    print(email)"
   ]
  },
  {
   "cell_type": "code",
   "execution_count": null,
   "metadata": {
    "collapsed": true
   },
   "outputs": [],
   "source": []
  }
 ],
 "metadata": {
  "kernelspec": {
   "display_name": "Python 3",
   "language": "python",
   "name": "python3"
  },
  "language_info": {
   "codemirror_mode": {
    "name": "ipython",
    "version": 3
   },
   "file_extension": ".py",
   "mimetype": "text/x-python",
   "name": "python",
   "nbconvert_exporter": "python",
   "pygments_lexer": "ipython3",
   "version": "3.5.2"
  }
 },
 "nbformat": 4,
 "nbformat_minor": 0
}
