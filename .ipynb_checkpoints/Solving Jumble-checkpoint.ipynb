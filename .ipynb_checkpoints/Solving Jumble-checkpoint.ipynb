{
 "cells": [
  {
   "cell_type": "markdown",
   "metadata": {},
   "source": [
    "# Solving Jumble\n",
    "\n",
    "By Saurabh Mathur"
   ]
  },
  {
   "cell_type": "markdown",
   "metadata": {},
   "source": [
    "![](./images/jumble.jpg)"
   ]
  },
  {
   "cell_type": "markdown",
   "metadata": {},
   "source": [
    "Unscramble the following words -\n",
    "\n",
    "- SUGES\n",
    "- ONYEM\n",
    "- LLOWYS\n",
    "- ANNLID"
   ]
  },
  {
   "cell_type": "markdown",
   "metadata": {},
   "source": [
    "## Building a list of words"
   ]
  },
  {
   "cell_type": "markdown",
   "metadata": {},
   "source": [
    "In the `data` folder, there is a file called `big.txt`. It was made by joining a lot of text files together. Thus, we can assume it contains all words of the english language."
   ]
  },
  {
   "cell_type": "code",
   "execution_count": 1,
   "metadata": {
    "collapsed": true
   },
   "outputs": [],
   "source": [
    "import os\n",
    "\n",
    "filepath = os.path.join('data', 'big.txt')"
   ]
  },
  {
   "cell_type": "code",
   "execution_count": 3,
   "metadata": {
    "collapsed": false
   },
   "outputs": [],
   "source": [
    "import re\n",
    "try:\n",
    "    with open(filepath) as f:\n",
    "        alltext = f.read().lower()\n",
    "        words = re.findall('[a-z]+', alltext)\n",
    "except IOError:\n",
    "    print ('unable to read file.')"
   ]
  },
  {
   "cell_type": "code",
   "execution_count": 5,
   "metadata": {
    "collapsed": false
   },
   "outputs": [
    {
     "data": {
      "text/plain": [
       "['the',\n",
       " 'project',\n",
       " 'gutenberg',\n",
       " 'ebook',\n",
       " 'of',\n",
       " 'the',\n",
       " 'adventures',\n",
       " 'of',\n",
       " 'sherlock',\n",
       " 'holmes']"
      ]
     },
     "execution_count": 5,
     "metadata": {},
     "output_type": "execute_result"
    }
   ],
   "source": [
    "words[:10]"
   ]
  },
  {
   "cell_type": "code",
   "execution_count": 8,
   "metadata": {
    "collapsed": false
   },
   "outputs": [
    {
     "name": "stdout",
     "output_type": "stream",
     "text": [
      "Number of words  29157\n"
     ]
    }
   ],
   "source": [
    "unique_words = set(words)\n",
    "print ('Number of words ', len(unique_words))"
   ]
  },
  {
   "cell_type": "markdown",
   "metadata": {},
   "source": [
    "## Finding all anagrams"
   ]
  },
  {
   "cell_type": "code",
   "execution_count": 11,
   "metadata": {
    "collapsed": false
   },
   "outputs": [
    {
     "name": "stdout",
     "output_type": "stream",
     "text": [
      "[('t', 'h', 'e'), ('t', 'e', 'h'), ('h', 't', 'e'), ('h', 'e', 't'), ('e', 't', 'h'), ('e', 'h', 't')]\n",
      "['the', 'teh', 'hte', 'het', 'eth', 'eht']\n"
     ]
    }
   ],
   "source": [
    "from itertools import permutations\n",
    "\n",
    "print (list(permutations('the')))\n",
    "print ([''.join(each) for each in permutations('the')])"
   ]
  },
  {
   "cell_type": "markdown",
   "metadata": {},
   "source": [
    "## * Valid * Anagrams"
   ]
  },
  {
   "cell_type": "code",
   "execution_count": 13,
   "metadata": {
    "collapsed": false
   },
   "outputs": [
    {
     "name": "stdout",
     "output_type": "stream",
     "text": [
      "suges ['guess', 'guess']\n",
      "onyem ['money']\n",
      "llowys ['slowly', 'slowly']\n",
      "annlid ['inland', 'inland']\n"
     ]
    }
   ],
   "source": [
    "jumbled_words = ['suges', 'onyem', 'llowys', 'annlid']\n",
    "\n",
    "def find_anagrams(word):\n",
    "    candidates = [''.join(each) for each in permutations(word)]\n",
    "    return [each for each in candidates if each in unique_words]\n",
    "\n",
    "for word in jumbled_words:\n",
    "    print (word, find_anagrams(word))"
   ]
  }
 ],
 "metadata": {
  "kernelspec": {
   "display_name": "Python 3",
   "language": "python",
   "name": "python3"
  },
  "language_info": {
   "codemirror_mode": {
    "name": "ipython",
    "version": 3
   },
   "file_extension": ".py",
   "mimetype": "text/x-python",
   "name": "python",
   "nbconvert_exporter": "python",
   "pygments_lexer": "ipython3",
   "version": "3.5.2"
  }
 },
 "nbformat": 4,
 "nbformat_minor": 0
}
