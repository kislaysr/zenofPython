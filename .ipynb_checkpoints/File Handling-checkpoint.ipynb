{
 "cells": [
  {
   "cell_type": "markdown",
   "metadata": {},
   "source": [
    "# File Handling\n",
    "\n",
    "By Saurabh Mathur"
   ]
  },
  {
   "cell_type": "markdown",
   "metadata": {},
   "source": [
    "## What is a file ?\n",
    "\n",
    "A computer file is a resource for storing information. The information stored is *persistent*, that is, it is available even after the program that created it finished executing.\n",
    "\n",
    "\n"
   ]
  },
  {
   "cell_type": "markdown",
   "metadata": {},
   "source": [
    "## File handling in python"
   ]
  },
  {
   "cell_type": "markdown",
   "metadata": {},
   "source": [
    "### Writing to a file"
   ]
  },
  {
   "cell_type": "code",
   "execution_count": 16,
   "metadata": {
    "collapsed": false
   },
   "outputs": [
    {
     "name": "stdout",
     "output_type": "stream",
     "text": [
      "file handle :  <_io.TextIOWrapper name='small.txt' mode='w' encoding='UTF-8'>\n"
     ]
    }
   ],
   "source": [
    "f = open('small.txt', 'w')\n",
    "print ('file handle : ', f)\n",
    "\n",
    "f.write('hello') # file contains 'hello'\n",
    "f.write('\\r\\n')    # file contains 'hello\\n'\n",
    "f.write('world') # file contains 'hello world'\n",
    "\n",
    "f.close()"
   ]
  },
  {
   "cell_type": "markdown",
   "metadata": {},
   "source": [
    "### What happened ?"
   ]
  },
  {
   "cell_type": "markdown",
   "metadata": {},
   "source": [
    "General flow of execution of `open`, behind the scenes is :\n",
    "![](images/files.png)"
   ]
  },
  {
   "cell_type": "markdown",
   "metadata": {},
   "source": [
    "### Reading text from a file"
   ]
  },
  {
   "cell_type": "code",
   "execution_count": 18,
   "metadata": {
    "collapsed": false
   },
   "outputs": [
    {
     "name": "stdout",
     "output_type": "stream",
     "text": [
      "file handle :  <_io.TextIOWrapper name='small.txt' mode='r' encoding='UTF-8'>\n",
      "file contents: \"hello\n",
      "world\"\n"
     ]
    }
   ],
   "source": [
    "f = open('small.txt')  # mode  is 'r' by default\n",
    "print ('file handle : ', f)\n",
    "\n",
    "alltext = f.read() # entire file is read as a string\n",
    "print ('file contents: \"{}\"'.format(alltext))\n",
    "\n",
    "f.close()"
   ]
  },
  {
   "cell_type": "markdown",
   "metadata": {},
   "source": [
    "### Reading text *line-by-line* from a file"
   ]
  },
  {
   "cell_type": "code",
   "execution_count": 17,
   "metadata": {
    "collapsed": false
   },
   "outputs": [
    {
     "name": "stdout",
     "output_type": "stream",
     "text": [
      "file handle :  <_io.TextIOWrapper name='small.txt' mode='r' encoding='UTF-8'>\n",
      "line read: \"hello\n",
      "\"\n",
      "line read: \"world\"\n"
     ]
    }
   ],
   "source": [
    "f = open('small.txt')  # mode  is 'r' by default\n",
    "print ('file handle : ', f)\n",
    "\n",
    "for line in f:\n",
    "    print ('line read: \"{}\"'.format(line))\n",
    "\n",
    "f.close()"
   ]
  },
  {
   "cell_type": "markdown",
   "metadata": {},
   "source": [
    "We can get rid of the trailing newline by caliing `.rstrip()` on every line."
   ]
  },
  {
   "cell_type": "code",
   "execution_count": 22,
   "metadata": {
    "collapsed": false
   },
   "outputs": [
    {
     "name": "stdout",
     "output_type": "stream",
     "text": [
      "file handle :  <_io.TextIOWrapper name='small.txt' mode='r' encoding='UTF-8'>\n",
      "line read: \"hello\"\n",
      "line read: \"world\"\n"
     ]
    }
   ],
   "source": [
    "f = open('small.txt')  # mode  is 'r' by default\n",
    "print ('file handle : ', f)\n",
    "\n",
    "for line in f:\n",
    "    print ('line read: \"{}\"'.format(line.rstrip()))\n",
    "\n",
    "f.close()"
   ]
  },
  {
   "cell_type": "markdown",
   "metadata": {},
   "source": [
    "## Autoclosing files - context managers"
   ]
  }
 ],
 "metadata": {
  "kernelspec": {
   "display_name": "Python 2",
   "language": "python",
   "name": "python2"
  },
  "language_info": {
   "codemirror_mode": {
    "name": "ipython",
    "version": 2
   },
   "file_extension": ".py",
   "mimetype": "text/x-python",
   "name": "python",
   "nbconvert_exporter": "python",
   "pygments_lexer": "ipython2",
   "version": "2.7.12"
  }
 },
 "nbformat": 4,
 "nbformat_minor": 0
}
